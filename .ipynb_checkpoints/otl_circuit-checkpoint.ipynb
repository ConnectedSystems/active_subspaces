{
 "metadata": {
  "name": "",
  "signature": "sha256:3fe8cde1b88a1d367f9753a86d3ed30a107f92897e936c6fe36a5ad7027786d0"
 },
 "nbformat": 3,
 "nbformat_minor": 0,
 "worksheets": [
  {
   "cells": [
    {
     "cell_type": "markdown",
     "metadata": {},
     "source": [
      "First navigate to the appropriate test function directory in this example it is test_functions/otl_circuit"
     ]
    },
    {
     "cell_type": "code",
     "collapsed": false,
     "input": [
      "cd Dropbox/Paul/test_functions/otl_circuit/"
     ],
     "language": "python",
     "metadata": {},
     "outputs": [
      {
       "output_type": "stream",
       "stream": "stdout",
       "text": [
        "/Users/redpatrioteq2/Dropbox/Paul/test_functions/otl_circuit\n"
       ]
      }
     ],
     "prompt_number": 10
    },
    {
     "cell_type": "code",
     "collapsed": false,
     "input": [
      "import numpy as np\n",
      "import active_subspaces\n",
      "import matplotlib.pyplot as plt\n",
      "import otlcircuit\n",
      "\n",
      "# Load the data \n",
      "npzfile = np.load('data.npz')\n",
      "f = npzfile['f'] #Model evaluations\n",
      "df = npzfile['df'] #Gradient evaluations\n",
      "m = npzfile['m'] #Number of inputs\n",
      "n = npzfile['n'] #Dimension of active subspace\n",
      "M = npzfile['M'] #Number of monte carlo samples\n",
      "x0 = npzfile['x0'] #Sample data points\n",
      "evals = npzfile['evals'] #Eigenvalues\n",
      "W = npzfile['W'] #Eigenvectors\n",
      "k = 1000 #number of data points used for plotting sufficient summary\n",
      "# Partion the eigenvector matrix\n",
      "W1 = W[:,:n]\n",
      "W2 = W[:,n:]\n",
      "# Define the active/inactive variables \n",
      "Y, Z = np.dot(x0[1:k,:], W1), np.dot(x0[1:k,:], W2)\n",
      "sub = active_subspaces.subspaces.Subspaces()\n",
      "sub.compute(df, n_boot=100)\n",
      "in_labels = ['Rb1', 'Rb2', 'Rf', 'Rc1', 'Rc2','beta']"
     ],
     "language": "python",
     "metadata": {},
     "outputs": [],
     "prompt_number": 12
    },
    {
     "cell_type": "markdown",
     "metadata": {},
     "source": [
      "Plot MC estimated eigenvalues with bootstrap intervals. The bootstrap intervals are small due to the number of monte carlo samples."
     ]
    },
    {
     "cell_type": "code",
     "collapsed": false,
     "input": [
      "active_subspaces.utils.plotters.eigenvalues(sub.eigenvalues,e_br=sub.e_br)"
     ],
     "language": "python",
     "metadata": {},
     "outputs": [],
     "prompt_number": 13
    },
    {
     "cell_type": "markdown",
     "metadata": {},
     "source": [
      "Plot Quadrature eigenvalues "
     ]
    },
    {
     "cell_type": "code",
     "collapsed": false,
     "input": [
      "active_subspaces.utils.plotters.eigenvalues(evals)"
     ],
     "language": "python",
     "metadata": {},
     "outputs": [],
     "prompt_number": 14
    },
    {
     "cell_type": "markdown",
     "metadata": {},
     "source": [
      "Plot bootstrap estimates of the subspace errors with confidence intervals"
     ]
    },
    {
     "cell_type": "code",
     "collapsed": false,
     "input": [
      "active_subspaces.utils.plotters.subspace_errors(sub.sub_br)\n",
      "if (n <= 2):\n",
      "    active_subspaces.utils.plotters.sufficient_summary(Y, f[1:k])"
     ],
     "language": "python",
     "metadata": {},
     "outputs": [],
     "prompt_number": 15
    }
   ],
   "metadata": {}
  }
 ]
}
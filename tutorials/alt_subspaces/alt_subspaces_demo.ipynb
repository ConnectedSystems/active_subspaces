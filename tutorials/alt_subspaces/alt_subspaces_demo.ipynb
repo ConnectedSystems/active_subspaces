{
 "cells": [
  {
   "cell_type": "code",
   "execution_count": null,
   "metadata": {
    "collapsed": false
   },
   "outputs": [],
   "source": [
    "cd ~/active_subspaces/tutorials/alt_subspaces/"
   ]
  },
  {
   "cell_type": "markdown",
   "metadata": {},
   "source": [
    "Load the data for C4 Monte Carlo simulation"
   ]
  },
  {
   "cell_type": "code",
   "execution_count": null,
   "metadata": {
    "collapsed": false
   },
   "outputs": [],
   "source": [
    "import numpy as np\n",
    "import active_subspaces\n",
    "import matplotlib.pyplot as plt\n",
    "%matplotlib inline\n",
    "\n",
    "# Load the data \n",
    "npzfile = np.load('C4_MC_data.npz')\n",
    "f = npzfile['f'] #Model evaluations\n",
    "m = npzfile['m'] #Number of inputs\n",
    "n = npzfile['n'] #Dimension of active subspace\n",
    "M = npzfile['M'] #Number of monte carlo samples\n",
    "x0 = npzfile['x0'] #Sample data points\n",
    "evals = npzfile['evals'] #Eigenvalues\n",
    "W = npzfile['W'] #Eigenvectors\n",
    "comp_flag = npzfile['comp_flag']\n",
    "sub_br = npzfile['sub_br']\n",
    "e_br = npzfile['e_br']\n",
    "k = 1000 #number of data points used for plotting sufficient summary\n",
    "# Rewrite the active/inactive subspace variables to be n-dimensional\n",
    "W1 = W[:,:n]\n",
    "W2 = W[:,n:]\n",
    "# Define the active/inactive variables \n",
    "Y, Z = np.dot(x0[1:k,:], W1), np.dot(x0[1:k,:], W2)\n",
    "\n",
    "Y = np.dot(x0[1:k,:], W1)\n",
    "# Plot the active subspace info\n",
    "if comp_flag == 0:\n",
    "    #Plot MC estimated eigenvalues with bootstrap intervals\n",
    "    active_subspaces.utils.plotters.eigenvalues(evals,e_br=e_br)\n",
    "    #Plot bootstrap estimates of the subspace errors with confidence intervals\n",
    "    active_subspaces.utils.plotters.subspace_errors(sub_br)\n",
    "elif comp_flag == 1:\n",
    "    active_subspaces.utils.plotters.eigenvalues(evals)\n",
    "if (n <= 2):\n",
    "    active_subspaces.utils.plotters.sufficient_summary(Y, f[1:k])"
   ]
  },
  {
   "cell_type": "markdown",
   "metadata": {},
   "source": [
    "Load the C4 Gauss-Legendre Quadrature data"
   ]
  },
  {
   "cell_type": "code",
   "execution_count": null,
   "metadata": {
    "collapsed": false
   },
   "outputs": [],
   "source": [
    "import numpy as np\n",
    "import active_subspaces\n",
    "import matplotlib.pyplot as plt\n",
    "\n",
    "# Load the data \n",
    "npzfile = np.load('C4_LGQ_data.npz')\n",
    "f = npzfile['f'] #Model evaluations\n",
    "m = npzfile['m'] #Number of inputs\n",
    "n = npzfile['n'] #Dimension of active subspace\n",
    "M = npzfile['M'] #Number of monte carlo samples\n",
    "x0 = npzfile['x0'] #Sample data points\n",
    "evals = npzfile['evals'] #Eigenvalues\n",
    "W = npzfile['W'] #Eigenvectors\n",
    "comp_flag = npzfile['comp_flag']\n",
    "sub_br = npzfile['sub_br']\n",
    "e_br = npzfile['e_br']\n",
    "k = 1000 #number of data points used for plotting sufficient summary\n",
    "# Rewrite the active/inactive subspace variables to be n-dimensional\n",
    "W1 = W[:,:n]\n",
    "W2 = W[:,n:]\n",
    "# Define the active/inactive variables \n",
    "Y, Z = np.dot(x0[1:k,:], W1), np.dot(x0[1:k,:], W2)\n",
    "\n",
    "Y = np.dot(x0[1:k,:], W1)\n",
    "# Plot the active subspace info\n",
    "if comp_flag == 0:\n",
    "    #Plot MC estimated eigenvalues with bootstrap intervals\n",
    "    active_subspaces.utils.plotters.eigenvalues(evals,e_br=e_br)\n",
    "    #Plot bootstrap estimates of the subspace errors with confidence intervals\n",
    "    active_subspaces.utils.plotters.subspace_errors(sub_br)\n",
    "elif comp_flag == 1:\n",
    "    active_subspaces.utils.plotters.eigenvalues(evals)\n",
    "if (n <= 2):\n",
    "    active_subspaces.utils.plotters.sufficient_summary(Y, f[1:k])"
   ]
  },
  {
   "cell_type": "markdown",
   "metadata": {},
   "source": [
    "Load the C3 Monte Carlo Data"
   ]
  },
  {
   "cell_type": "code",
   "execution_count": null,
   "metadata": {
    "collapsed": false
   },
   "outputs": [],
   "source": [
    "import numpy as np\n",
    "import active_subspaces\n",
    "import matplotlib.pyplot as plt\n",
    "\n",
    "# Load the data \n",
    "npzfile = np.load('C3_MC_data.npz')\n",
    "f = npzfile['f'] #Model evaluations\n",
    "m = npzfile['m'] #Number of inputs\n",
    "n = npzfile['n'] #Dimension of active subspace\n",
    "M = npzfile['M'] #Number of monte carlo samples\n",
    "x0 = npzfile['x0'] #Sample data points\n",
    "evals = npzfile['evals'] #Eigenvalues\n",
    "W = npzfile['W'] #Eigenvectors\n",
    "comp_flag = npzfile['comp_flag']\n",
    "sub_br = npzfile['sub_br']\n",
    "e_br = npzfile['e_br']\n",
    "k = 1000 #number of data points used for plotting sufficient summary\n",
    "# Rewrite the active/inactive subspace variables to be n-dimensional\n",
    "W1 = W[:,:n]\n",
    "W2 = W[:,n:]\n",
    "# Define the active/inactive variables \n",
    "Y, Z = np.dot(x0[1:k,:], W1), np.dot(x0[1:k,:], W2)\n",
    "\n",
    "Y = np.dot(x0[1:k,:], W1)\n",
    "# Plot the active subspace info\n",
    "if comp_flag == 0:\n",
    "    #Plot MC estimated eigenvalues with bootstrap intervals\n",
    "    active_subspaces.utils.plotters.eigenvalues(evals,e_br=e_br)\n",
    "    #Plot bootstrap estimates of the subspace errors with confidence intervals\n",
    "    active_subspaces.utils.plotters.subspace_errors(sub_br)\n",
    "elif comp_flag == 1:\n",
    "    active_subspaces.utils.plotters.eigenvalues(evals)\n",
    "if (n <= 2):\n",
    "    active_subspaces.utils.plotters.sufficient_summary(Y, f[1:k])"
   ]
  },
  {
   "cell_type": "markdown",
   "metadata": {},
   "source": [
    "Plot the active subspace info"
   ]
  },
  {
   "cell_type": "markdown",
   "metadata": {},
   "source": [
    "Load the C3 Gauss-Legendre Data"
   ]
  },
  {
   "cell_type": "code",
   "execution_count": null,
   "metadata": {
    "collapsed": false
   },
   "outputs": [],
   "source": [
    "import numpy as np\n",
    "import active_subspaces\n",
    "import matplotlib.pyplot as plt\n",
    "\n",
    "# Load the data \n",
    "npzfile = np.load('C3_LGQ_data.npz')\n",
    "f = npzfile['f'] #Model evaluations\n",
    "m = npzfile['m'] #Number of inputs\n",
    "n = npzfile['n'] #Dimension of active subspace\n",
    "M = npzfile['M'] #Number of monte carlo samples\n",
    "x0 = npzfile['x0'] #Sample data points\n",
    "evals = npzfile['evals'] #Eigenvalues\n",
    "W = npzfile['W'] #Eigenvectors\n",
    "comp_flag = npzfile['comp_flag']\n",
    "sub_br = npzfile['sub_br']\n",
    "e_br = npzfile['e_br']\n",
    "k = 1000 #number of data points used for plotting sufficient summary\n",
    "# Rewrite the active/inactive subspace variables to be n-dimensional\n",
    "W1 = W[:,:n]\n",
    "W2 = W[:,n:]\n",
    "# Define the active/inactive variables \n",
    "Y, Z = np.dot(x0[1:k,:], W1), np.dot(x0[1:k,:], W2)\n",
    "\n",
    "Y = np.dot(x0[1:k,:], W1)\n",
    "# Plot the active subspace info\n",
    "if comp_flag == 0:\n",
    "    #Plot MC estimated eigenvalues with bootstrap intervals\n",
    "    active_subspaces.utils.plotters.eigenvalues(evals,e_br=e_br)\n",
    "    #Plot bootstrap estimates of the subspace errors with confidence intervals\n",
    "    active_subspaces.utils.plotters.subspace_errors(sub_br)\n",
    "elif comp_flag == 1:\n",
    "    active_subspaces.utils.plotters.eigenvalues(evals)\n",
    "if (n <= 2):\n",
    "    active_subspaces.utils.plotters.sufficient_summary(Y, f[1:k])"
   ]
  },
  {
   "cell_type": "markdown",
   "metadata": {},
   "source": [
    "Load the C2 Monte Carlo data"
   ]
  },
  {
   "cell_type": "code",
   "execution_count": null,
   "metadata": {
    "collapsed": false
   },
   "outputs": [],
   "source": [
    "import numpy as np\n",
    "import active_subspaces\n",
    "import matplotlib.pyplot as plt\n",
    "\n",
    "# Load the data \n",
    "npzfile = np.load('C2_MC_data.npz')\n",
    "f = npzfile['f'] #Model evaluations\n",
    "m = npzfile['m'] #Number of inputs\n",
    "n = npzfile['n'] #Dimension of active subspace\n",
    "M = npzfile['M'] #Number of monte carlo samples\n",
    "x0 = npzfile['x0'] #Sample data points\n",
    "evals = npzfile['evals'] #Eigenvalues\n",
    "W = npzfile['W'] #Eigenvectors\n",
    "comp_flag = npzfile['comp_flag']\n",
    "sub_br = npzfile['sub_br']\n",
    "e_br = npzfile['e_br']\n",
    "k = 1000 #number of data points used for plotting sufficient summary\n",
    "# Rewrite the active/inactive subspace variables to be n-dimensional\n",
    "W1 = W[:,:n]\n",
    "W2 = W[:,n:]\n",
    "# Define the active/inactive variables \n",
    "Y, Z = np.dot(x0[1:k,:], W1), np.dot(x0[1:k,:], W2)\n",
    "\n",
    "Y = np.dot(x0[1:k,:], W1)\n",
    "# Plot the active subspace info\n",
    "if comp_flag == 0:\n",
    "    #Plot MC estimated eigenvalues with bootstrap intervals\n",
    "    active_subspaces.utils.plotters.eigenvalues(evals,e_br=e_br)\n",
    "    #Plot bootstrap estimates of the subspace errors with confidence intervals\n",
    "    active_subspaces.utils.plotters.subspace_errors(sub_br)\n",
    "elif comp_flag == 1:\n",
    "    active_subspaces.utils.plotters.eigenvalues(evals)\n",
    "if (n <= 2):\n",
    "    active_subspaces.utils.plotters.sufficient_summary(Y, f[1:k])"
   ]
  },
  {
   "cell_type": "markdown",
   "metadata": {},
   "source": [
    "Load the C2 legendre gauss data"
   ]
  },
  {
   "cell_type": "code",
   "execution_count": null,
   "metadata": {
    "collapsed": false
   },
   "outputs": [],
   "source": [
    "import numpy as np\n",
    "import active_subspaces\n",
    "import matplotlib.pyplot as plt\n",
    "\n",
    "# Load the data \n",
    "npzfile = np.load('C2_LGQ_data.npz')\n",
    "f = npzfile['f'] #Model evaluations\n",
    "m = npzfile['m'] #Number of inputs\n",
    "n = npzfile['n'] #Dimension of active subspace\n",
    "M = npzfile['M'] #Number of monte carlo samples\n",
    "x0 = npzfile['x0'] #Sample data points\n",
    "evals = npzfile['evals'] #Eigenvalues\n",
    "W = npzfile['W'] #Eigenvectors\n",
    "comp_flag = npzfile['comp_flag']\n",
    "sub_br = npzfile['sub_br']\n",
    "e_br = npzfile['e_br']\n",
    "k = 1000 #number of data points used for plotting sufficient summary\n",
    "# Rewrite the active/inactive subspace variables to be n-dimensional\n",
    "W1 = W[:,:n]\n",
    "W2 = W[:,n:]\n",
    "# Define the active/inactive variables \n",
    "Y, Z = np.dot(x0[1:k,:], W1), np.dot(x0[1:k,:], W2)\n",
    "\n",
    "Y = np.dot(x0[1:k,:], W1)\n",
    "# Plot the active subspace info\n",
    "if comp_flag == 0:\n",
    "    #Plot MC estimated eigenvalues with bootstrap intervals\n",
    "    active_subspaces.utils.plotters.eigenvalues(evals,e_br=e_br)\n",
    "    #Plot bootstrap estimates of the subspace errors with confidence intervals\n",
    "    active_subspaces.utils.plotters.subspace_errors(sub_br)\n",
    "elif comp_flag == 1:\n",
    "    active_subspaces.utils.plotters.eigenvalues(evals)\n",
    "if (n <= 2):\n",
    "    active_subspaces.utils.plotters.sufficient_summary(Y, f[1:k])"
   ]
  },
  {
   "cell_type": "markdown",
   "metadata": {},
   "source": [
    "Load the C1 Monte Carlo Data"
   ]
  },
  {
   "cell_type": "code",
   "execution_count": null,
   "metadata": {
    "collapsed": false
   },
   "outputs": [],
   "source": [
    "import numpy as np\n",
    "import active_subspaces\n",
    "import matplotlib.pyplot as plt\n",
    "\n",
    "# Load the data \n",
    "npzfile = np.load('C1_MC_data.npz')\n",
    "f = npzfile['f'] #Model evaluations\n",
    "m = npzfile['m'] #Number of inputs\n",
    "n = npzfile['n'] #Dimension of active subspace\n",
    "M = npzfile['M'] #Number of monte carlo samples\n",
    "x0 = npzfile['x0'] #Sample data points\n",
    "evals = npzfile['evals'] #Eigenvalues\n",
    "W = npzfile['W'] #Eigenvectors\n",
    "comp_flag = npzfile['comp_flag']\n",
    "sub_br = npzfile['sub_br']\n",
    "e_br = npzfile['e_br']\n",
    "k = 1000 #number of data points used for plotting sufficient summary\n",
    "# Rewrite the active/inactive subspace variables to be n-dimensional\n",
    "W1 = W[:,:n]\n",
    "W2 = W[:,n:]\n",
    "# Define the active/inactive variables \n",
    "Y, Z = np.dot(x0[1:k,:], W1), np.dot(x0[1:k,:], W2)\n",
    "\n",
    "Y = np.dot(x0[1:k,:], W1)\n",
    "# Plot the active subspace info\n",
    "if comp_flag == 0:\n",
    "    #Plot MC estimated eigenvalues with bootstrap intervals\n",
    "    active_subspaces.utils.plotters.eigenvalues(evals,e_br=e_br)\n",
    "    #Plot bootstrap estimates of the subspace errors with confidence intervals\n",
    "    active_subspaces.utils.plotters.subspace_errors(sub_br)\n",
    "elif comp_flag == 1:\n",
    "    active_subspaces.utils.plotters.eigenvalues(evals)\n",
    "if (n <= 2):\n",
    "    active_subspaces.utils.plotters.sufficient_summary(Y, f[1:k])"
   ]
  },
  {
   "cell_type": "markdown",
   "metadata": {},
   "source": [
    "Load the C1 Legendre Gauss data"
   ]
  },
  {
   "cell_type": "code",
   "execution_count": null,
   "metadata": {
    "collapsed": false
   },
   "outputs": [],
   "source": [
    "import numpy as np\n",
    "import active_subspaces\n",
    "import matplotlib.pyplot as plt\n",
    "\n",
    "# Load the data \n",
    "npzfile = np.load('C1_LGQ_data.npz')\n",
    "f = npzfile['f'] #Model evaluations\n",
    "m = npzfile['m'] #Number of inputs\n",
    "n = npzfile['n'] #Dimension of active subspace\n",
    "M = npzfile['M'] #Number of monte carlo samples\n",
    "x0 = npzfile['x0'] #Sample data points\n",
    "evals = npzfile['evals'] #Eigenvalues\n",
    "W = npzfile['W'] #Eigenvectors\n",
    "comp_flag = npzfile['comp_flag']\n",
    "sub_br = npzfile['sub_br']\n",
    "e_br = npzfile['e_br']\n",
    "k = 1000 #number of data points used for plotting sufficient summary\n",
    "# Rewrite the active/inactive subspace variables to be n-dimensional\n",
    "W1 = W[:,:n]\n",
    "W2 = W[:,n:]\n",
    "# Define the active/inactive variables \n",
    "Y, Z = np.dot(x0[1:k,:], W1), np.dot(x0[1:k,:], W2)\n",
    "\n",
    "Y = np.dot(x0[1:k,:], W1)\n",
    "# Plot the active subspace info\n",
    "if comp_flag == 0:\n",
    "    #Plot MC estimated eigenvalues with bootstrap intervals\n",
    "    active_subspaces.utils.plotters.eigenvalues(evals,e_br=e_br)\n",
    "    #Plot bootstrap estimates of the subspace errors with confidence intervals\n",
    "    active_subspaces.utils.plotters.subspace_errors(sub_br)\n",
    "elif comp_flag == 1:\n",
    "    active_subspaces.utils.plotters.eigenvalues(evals)\n",
    "if (n <= 2):\n",
    "    active_subspaces.utils.plotters.sufficient_summary(Y, f[1:k])"
   ]
  },
  {
   "cell_type": "markdown",
   "metadata": {},
   "source": [
    "Load the C0 (C) Monte Carlo Data"
   ]
  },
  {
   "cell_type": "code",
   "execution_count": null,
   "metadata": {
    "collapsed": false
   },
   "outputs": [],
   "source": [
    "import numpy as np\n",
    "import active_subspaces\n",
    "import matplotlib.pyplot as plt\n",
    "\n",
    "# Load the data \n",
    "npzfile = np.load('C0_MC_data.npz')\n",
    "f = npzfile['f'] #Model evaluations\n",
    "m = npzfile['m'] #Number of inputs\n",
    "n = npzfile['n'] #Dimension of active subspace\n",
    "M = npzfile['M'] #Number of monte carlo samples\n",
    "x0 = npzfile['x0'] #Sample data points\n",
    "evals = npzfile['evals'] #Eigenvalues\n",
    "W = npzfile['W'] #Eigenvectors\n",
    "comp_flag = npzfile['comp_flag']\n",
    "sub_br = npzfile['sub_br']\n",
    "e_br = npzfile['e_br']\n",
    "k = 1000 #number of data points used for plotting sufficient summary\n",
    "# Rewrite the active/inactive subspace variables to be n-dimensional\n",
    "W1 = W[:,:n]\n",
    "W2 = W[:,n:]\n",
    "# Define the active/inactive variables \n",
    "Y, Z = np.dot(x0[1:k,:], W1), np.dot(x0[1:k,:], W2)\n",
    "\n",
    "Y = np.dot(x0[1:k,:], W1)\n",
    "# Plot the active subspace info\n",
    "if comp_flag == 0:\n",
    "    #Plot MC estimated eigenvalues with bootstrap intervals\n",
    "    active_subspaces.utils.plotters.eigenvalues(evals,e_br=e_br)\n",
    "    #Plot bootstrap estimates of the subspace errors with confidence intervals\n",
    "    active_subspaces.utils.plotters.subspace_errors(sub_br)\n",
    "elif comp_flag == 1:\n",
    "    active_subspaces.utils.plotters.eigenvalues(evals)\n",
    "if (n <= 2):\n",
    "    active_subspaces.utils.plotters.sufficient_summary(Y, f[1:k])"
   ]
  },
  {
   "cell_type": "markdown",
   "metadata": {},
   "source": [
    "Load the C0 (C) Legendre Gauss data"
   ]
  },
  {
   "cell_type": "code",
   "execution_count": null,
   "metadata": {
    "collapsed": false
   },
   "outputs": [],
   "source": [
    "import numpy as np\n",
    "import active_subspaces\n",
    "import matplotlib.pyplot as plt\n",
    "\n",
    "# Load the data \n",
    "npzfile = np.load('C0_LGQ_data.npz')\n",
    "f = npzfile['f'] #Model evaluations\n",
    "m = npzfile['m'] #Number of inputs\n",
    "n = npzfile['n'] #Dimension of active subspace\n",
    "M = npzfile['M'] #Number of monte carlo samples\n",
    "x0 = npzfile['x0'] #Sample data points\n",
    "evals = npzfile['evals'] #Eigenvalues\n",
    "W = npzfile['W'] #Eigenvectors\n",
    "comp_flag = npzfile['comp_flag']\n",
    "sub_br = npzfile['sub_br']\n",
    "e_br = npzfile['e_br']\n",
    "k = 1000 #number of data points used for plotting sufficient summary\n",
    "# Rewrite the active/inactive subspace variables to be n-dimensional\n",
    "W1 = W[:,:n]\n",
    "W2 = W[:,n:]\n",
    "# Define the active/inactive variables \n",
    "Y, Z = np.dot(x0[1:k,:], W1), np.dot(x0[1:k,:], W2)\n",
    "\n",
    "Y = np.dot(x0[1:k,:], W1)\n",
    "# Plot the active subspace info\n",
    "if comp_flag == 0:\n",
    "    #Plot MC estimated eigenvalues with bootstrap intervals\n",
    "    active_subspaces.utils.plotters.eigenvalues(evals,e_br=e_br)\n",
    "    #Plot bootstrap estimates of the subspace errors with confidence intervals\n",
    "    active_subspaces.utils.plotters.subspace_errors(sub_br)\n",
    "elif comp_flag == 1:\n",
    "    active_subspaces.utils.plotters.eigenvalues(evals)\n",
    "if (n <= 2):\n",
    "    active_subspaces.utils.plotters.sufficient_summary(Y, f[1:k])"
   ]
  },
  {
   "cell_type": "markdown",
   "metadata": {},
   "source": [
    "Below is the code used to generate C_i for i=0,1,2,3. Note that the comp_flag parameter determines if Monte Carlo or Legendre Gauss quadrature used for computation."
   ]
  },
  {
   "cell_type": "code",
   "execution_count": null,
   "metadata": {
    "collapsed": false,
    "scrolled": true
   },
   "outputs": [],
   "source": [
    "import numpy as np\n",
    "import active_subspaces\n",
    "import matplotlib.pyplot as plt\n",
    "import borehole\n",
    "# Set the number of parameter (m) \n",
    "m = 8\n",
    "# Set the dimension of the active subspace (n)\n",
    "n = 2\n",
    "# Set the number of points used in the sufficient summary plot\n",
    "k = 1000\n",
    "# Compute ex0act solution for M randomly selected points\n",
    "M = 1000\n",
    "\n",
    "# Select function\n",
    "#For c_index =  0,1,2,3\n",
    "x0 = 2*np.random.rand(M,m)-1\n",
    "f = np.zeros(M)\n",
    "df = np.zeros((M,m)) \n",
    "c_index = 0 #matrix number\n",
    "comp_flag = 0 #0 for MC, 1 for LGW quadtrature\n",
    "for i in range(0,M):\n",
    "    sample = x0[i,:].reshape(m)\n",
    "    [out, gradout] = borehole.fun(sample)\n",
    "    f[i] = out\n",
    "    df[i,:] = gradout.T\n",
    "    \n",
    "    \n",
    "sub = active_subspaces.subspaces.Subspaces()\n",
    "f=np.reshape(f,(len(f),1))\n",
    "sub.compute(df=df ,f=f ,X=x0,sstype= 5, nboot=200)\n",
    "#sub.compute(df ,f ,x0,borehole.fun, c_index, comp_flag, 5, 200)\n",
    "#sub.compute(df)\n",
    "W = sub.eigenvectors\n",
    "evals = sub.eigenvalues.reshape((m,1))\n",
    "np.savez('C0_LGQ_data',m=m,n=n,M=M,f=f,x0=x0,evals=evals,W=W,comp_flag=comp_flag,sub_br=sub.sub_br,e_br=sub.e_br)\n",
    "\n",
    "\n",
    "# Rewrite the active/inactive subspace variables to be n-dimensional\n",
    "W1 = W[:,:n]\n",
    "W2 = W[:,n:]\n",
    "# Define the active/inactive variables \n",
    "Y = np.dot(x0[1:k,:], W1)\n",
    "\n",
    "# Plot the active subspace info\n",
    "if comp_flag == 0:\n",
    "    #Plot MC estimated eigenvalues with bootstrap intervals\n",
    "    active_subspaces.utils.plotters.eigenvalues(sub.eigenvalues,e_br=sub.e_br)\n",
    "    #Plot bootstrap estimates of the subspace errors with confidence intervals\n",
    "    active_subspaces.utils.plotters.subspace_errors(sub.sub_br)\n",
    "elif comp_flag == 1:\n",
    "    active_subspaces.utils.plotters.eigenvalues(sub.eigenvalues)\n",
    "if (n <= 2):\n",
    "    active_subspaces.utils.plotters.sufficient_summary(Y, f[1:k])\n"
   ]
  },
  {
   "cell_type": "markdown",
   "metadata": {},
   "source": [
    "Below is the code used to generate C_4 matrix. Note that the comp_flag parameter determines if Monte Carlo or Legendre Gauss quadrature used for computation."
   ]
  },
  {
   "cell_type": "code",
   "execution_count": null,
   "metadata": {
    "collapsed": false
   },
   "outputs": [],
   "source": [
    "import numpy as np\n",
    "import active_subspaces\n",
    "import matplotlib.pyplot as plt\n",
    "import borehole\n",
    "# Set the number of parameter (m) \n",
    "m = 8\n",
    "# Set the dimension of the active subspace (n)\n",
    "n = 2\n",
    "# Set the number of points used in the sufficient summary plot\n",
    "k = 1000\n",
    "# of Monte Carlo samples\n",
    "M = 1000\n",
    "\n",
    "# generate an M-by-2m matrix of data points\n",
    "x0 = 2*np.random.rand(M,2*m)-1\n",
    "# partition data\n",
    "x =  x0[:,:m]\n",
    "y = x0[:,m:]\n",
    "\n",
    "f = np.zeros(2*M)\n",
    "f_x = np.zeros(M)\n",
    "f_y = np.zeros(M)\n",
    "c_index = 4 #C index number\n",
    "comp_flag = 1 #0 for MC, 1 for LGW quadtrature\n",
    "\n",
    "#function evaluations for f_x and f_y\n",
    "for i in range(0,M):\n",
    "    x_sample = x[i,:].reshape(m)\n",
    "    [x_out, x_gradout] = borehole.fun(x_sample)\n",
    "    f_x[i] = x_out\n",
    "    \n",
    "    y_sample = y[i,:].reshape(m)\n",
    "    [y_out, y_gradout] = borehole.fun(y_sample)\n",
    "    f_y[i] = y_out\n",
    "\n",
    "f = np.append([[f_x]],[[f_y]],axis=0)\n",
    "f = f.reshape(2*M)\n",
    "\n",
    "sub = active_subspaces.subspaces.Subspaces()\n",
    "### Call to compute C4 matrix\n",
    "#sub.compute(0 ,f ,x0,borehole.fun, c_index, comp_flag, 2, 200)\n",
    "f=f.reshape((len(f),1))\n",
    "sub.compute(f=f ,X=np.append([[x]],[[y]],axis=0).reshape((2*M,m)), sstype=5, nboot=200)\n",
    "\n",
    "W = sub.eigenvectors\n",
    "evals = sub.eigenvalues.reshape((m,1))\n",
    "\n",
    "# Rewrite the active/inactive subspace variables to be n-dimensional\n",
    "W1 = W[:,:n]\n",
    "W2 = W[:,n:]\n",
    "# Define the active/inactive variables \n",
    "x0 =  np.append([x],[y]).reshape((2*M,m))\n",
    "np.savez('C4_LGQ_data',m=m,n=n,M=M,f=f,x0=x0,evals=evals,W=W,comp_flag=comp_flag,sub_br=sub.sub_br,e_br=sub.e_br)\n",
    "\n",
    "\n",
    "Y = np.dot(x0[1:k,:], W1)\n",
    "\n",
    "\n",
    "# Plot the active subspace info\n",
    "if comp_flag == 0:\n",
    "    #Plot MC estimated eigenvalues with bootstrap intervals\n",
    "    active_subspaces.utils.plotters.eigenvalues(sub.eigenvalues,e_br=sub.e_br)\n",
    "    #Plot bootstrap estimates of the subspace errors with confidence intervals\n",
    "    active_subspaces.utils.plotters.subspace_errors(sub.sub_br)\n",
    "elif comp_flag == 1:\n",
    "    active_subspaces.utils.plotters.eigenvalues(sub.eigenvalues)\n",
    "if (n <= 2):\n",
    "    active_subspaces.utils.plotters.sufficient_summary(Y, f[1:k])\n",
    "\n"
   ]
  }
 ],
 "metadata": {
  "kernelspec": {
   "display_name": "Python 2",
   "language": "python",
   "name": "python2"
  },
  "language_info": {
   "codemirror_mode": {
    "name": "ipython",
    "version": 2
   },
   "file_extension": ".py",
   "mimetype": "text/x-python",
   "name": "python",
   "nbconvert_exporter": "python",
   "pygments_lexer": "ipython2",
   "version": "2.7.11"
  }
 },
 "nbformat": 4,
 "nbformat_minor": 0
}

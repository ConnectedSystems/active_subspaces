{
 "metadata": {
  "name": "test-active-subspace.ipynb"
 },
 "nbformat": 3,
 "nbformat_minor": 0,
 "worksheets": [
  {
   "cells": [
    {
     "cell_type": "heading",
     "level": 1,
     "metadata": {},
     "source": [
      "Active Subspace Notebook for [DATASET]"
     ]
    },
    {
     "cell_type": "markdown",
     "metadata": {},
     "source": [
      "Insert a short description of the application and data set. "
     ]
    },
    {
     "cell_type": "markdown",
     "metadata": {},
     "source": [
      "**INPUTS (m)**\n",
      "Variable | Lower bound | Upper bound | Density\n",
      "--- | --- | --- | ---\n",
      "In 1 | 0 | 1 | Uniform\n",
      "In 2 | 0 | 1 | Uniform\n",
      "\n",
      "**OUTPUTS (m)**\n",
      "Variable | Description\n",
      "--- | --- \n",
      "Out 1 | desc \n",
      "Out 2 | desc \n",
      "\n",
      "**REFERENCES**\n",
      "\n",
      "+ [Paper 1](http://example.com/)\n",
      "+ [Paper 2](http://example.com/)\n",
      "\n",
      "**CONTACT**\n",
      "\n",
      "Questions or comments? Contact [Paul Constantine](http://example.com/)\n"
     ]
    },
    {
     "cell_type": "code",
     "collapsed": false,
     "input": [
      "import numpy as np\n",
      "import pandas as pn\n",
      "import active_subspaces as ac"
     ],
     "language": "python",
     "metadata": {},
     "outputs": [],
     "prompt_number": 1
    }
   ],
   "metadata": {}
  }
 ]
}
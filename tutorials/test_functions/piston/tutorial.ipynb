{
 "cells": [
  {
   "cell_type": "raw",
   "metadata": {},
   "source": [
    "##########################################################################\n",
    "#\n",
    "# PISTON SIMULATION FUNCTION\n",
    "#\n",
    "# Author: Paul Diaz, Colorado School of Mines \n",
    "# Questions/Comments: Please email Paul Diaz at pdiaz@mines.edu\n",
    "#\n",
    "# Copyright 2016, Paul Diaz, Colorado School of Mines \n",
    "#\n",
    "# THERE IS NO WARRANTY, EXPRESS OR IMPLIED. WE DO NOT ASSUME ANY LIABILITY\n",
    "# FOR THE USE OF THIS SOFTWARE.  If software is modified to produce\n",
    "# derivative works, such modified software should be clearly marked.\n",
    "# Additionally, this program is free software; you can redistribute it \n",
    "# and/or modify it under the terms of the GNU General Public License as \n",
    "# published by the Free Software Foundation; version 2.0 of the License. \n",
    "# Accordingly, this program is distributed in the hope that it will be \n",
    "# useful, but WITHOUT ANY WARRANTY; without even the implied warranty \n",
    "# of MERCHANTABILITY or FITNESS FOR A PARTICULAR PURPOSE. See the GNU \n",
    "# General Public License for more details.\n",
    "#\n",
    "# For function details and reference information, see:\n",
    "# http://www.sfu.ca/~ssurjano/\n",
    "#\n",
    "##########################################################################"
   ]
  },
  {
   "cell_type": "markdown",
   "metadata": {},
   "source": [
    "Modify if necessary & run to change to appropriate directory"
   ]
  },
  {
   "cell_type": "code",
   "execution_count": null,
   "metadata": {
    "collapsed": false
   },
   "outputs": [],
   "source": [
    "cd ~/active_subspaces/tutorials/test_functions/piston"
   ]
  },
  {
   "cell_type": "code",
   "execution_count": null,
   "metadata": {
    "collapsed": false
   },
   "outputs": [],
   "source": [
    "from IPython.display import Image\n",
    "Image(filename='piston.png')"
   ]
  },
  {
   "cell_type": "markdown",
   "metadata": {},
   "source": [
    "Load data from data.npz file"
   ]
  },
  {
   "cell_type": "code",
   "execution_count": null,
   "metadata": {
    "collapsed": false
   },
   "outputs": [],
   "source": [
    "import numpy as np\n",
    "import active_subspaces\n",
    "import matplotlib.pyplot as plt\n",
    "%matplotlib inline\n",
    "\n",
    "# Load the data \n",
    "npzfile = np.load('data.npz')\n",
    "f = npzfile['f'] #Model evaluations\n",
    "df = npzfile['df'] #Gradient evaluations\n",
    "m = npzfile['m'] #Number of inputs\n",
    "n = npzfile['n'] #Dimension of active subspace\n",
    "M = npzfile['M'] #Number of monte carlo samples\n",
    "x0 = npzfile['x0'] #Sample data points\n",
    "evals = npzfile['evals'] #Eigenvalues\n",
    "W = npzfile['W'] #Eigenvectors\n",
    "k = 1000 #number of data points used for plotting sufficient summary\n",
    "\n",
    "sub = active_subspaces.subspaces.Subspaces()\n",
    "sub.compute(df=df, nboot=100)\n",
    "\n",
    "# Rewrite the active/inactive subspace variables to be n-dimensional\n",
    "W1 = W[:,:n]\n",
    "W2 = W[:,n:]\n",
    "# Define the active/inactive variables \n",
    "Y, Z = np.dot(x0[1:k,:], W1), np.dot(x0[1:k,:], W2)"
   ]
  },
  {
   "cell_type": "markdown",
   "metadata": {},
   "source": [
    "Plot Monte Carlo estimated eigenvalues with bootstrap intervals. Note that bootstrap intervals are not visible due to large number of samples (M = 100,000)."
   ]
  },
  {
   "cell_type": "code",
   "execution_count": null,
   "metadata": {
    "collapsed": false
   },
   "outputs": [],
   "source": [
    "active_subspaces.utils.plotters.eigenvalues(sub.eigenvalues,e_br=sub.e_br)\n"
   ]
  },
  {
   "cell_type": "markdown",
   "metadata": {},
   "source": [
    "Plot Gauss-Legendre Quadrature eigenvalues"
   ]
  },
  {
   "cell_type": "code",
   "execution_count": null,
   "metadata": {
    "collapsed": false
   },
   "outputs": [],
   "source": [
    "active_subspaces.utils.plotters.eigenvalues(evals)"
   ]
  },
  {
   "cell_type": "markdown",
   "metadata": {},
   "source": [
    "Plot bootstrap estimates of the subspace errors with confidence intervals"
   ]
  },
  {
   "cell_type": "code",
   "execution_count": null,
   "metadata": {
    "collapsed": false
   },
   "outputs": [],
   "source": [
    "active_subspaces.utils.plotters.subspace_errors(sub.sub_br)\n"
   ]
  },
  {
   "cell_type": "markdown",
   "metadata": {},
   "source": [
    "Plot 1 & 2D sufficient summary plots"
   ]
  },
  {
   "cell_type": "code",
   "execution_count": null,
   "metadata": {
    "collapsed": false
   },
   "outputs": [],
   "source": [
    "if (n <= 2):\n",
    "    active_subspaces.utils.plotters.sufficient_summary(Y, f[1:k])"
   ]
  },
  {
   "cell_type": "markdown",
   "metadata": {},
   "source": [
    "***NOTE: ONLY RUN THIS CODE BLOCK TO GENERATE A NEW DATASET***  \n",
    "Run to generate a new .npz file containing a data set. The file will default to the name, \"thedata.npz\". This may take several minutes depending on the number of points used in monte carlo estimation & quadrature rules. "
   ]
  },
  {
   "cell_type": "code",
   "execution_count": null,
   "metadata": {
    "collapsed": false
   },
   "outputs": [],
   "source": [
    "import numpy as np\n",
    "import active_subspaces\n",
    "import matplotlib.pyplot as plt\n",
    "import piston\n",
    "# Set the number of parameter (m) \n",
    "m = 7\n",
    "# Set the dimension of the active subspace (n)\n",
    "n = 2\n",
    "# Set the number of points per dimension for Gauss Legendre Quadrature\n",
    "k = 6\n",
    "# Compute ex0act solution for M randomly selected points\n",
    "M = 100000\n",
    "x0 = 2*np.random.rand(M,m)-1\n",
    "f = np.zeros(M)\n",
    "df = np.zeros((M,m))\n",
    "for i in range(0,M):\n",
    "    sample = x0[i,:].reshape(m)\n",
    "    [out, gradout] = piston.fun(sample)\n",
    "    f[i] = out\n",
    "    df[i,:] = gradout.T\n",
    "    \n",
    "#Gauss Legendre Quadrature of the C matrix\n",
    "xx = (np.ones(m)*k).astype(np.int64).tolist()  \n",
    "[x,w] = active_subspaces.utils.quadrature.gauss_legendre(xx)\n",
    "C = np.zeros((m,m))\n",
    "N = np.size(w)\n",
    "for i in range(0,N):\n",
    "    [Out,Gradout] = piston.fun(x[i,:])\n",
    "    C = C + np.outer(Gradout,Gradout)*w[i]\n",
    "# Eigenvalue decomposition    \n",
    "[evals,WW] = np.linalg.eig(C)\n",
    "# Ordering eigenvalues in decending order\n",
    "order = np.argsort(evals)\n",
    "order = np.flipud(order)\n",
    "evals = evals[order]\n",
    "W = np.zeros((m,m))\n",
    "for jj in range(0,m):\n",
    "    W[:,jj] = WW[:,order[jj]]\n",
    "\n",
    "np.savez('thedata',m=m,n=n,M=M,f=f,df=df,x0=x0,evals=evals,W=W)"
   ]
  }
 ],
 "metadata": {
  "kernelspec": {
   "display_name": "Python 2",
   "language": "python",
   "name": "python2"
  },
  "language_info": {
   "codemirror_mode": {
    "name": "ipython",
    "version": 2
   },
   "file_extension": ".py",
   "mimetype": "text/x-python",
   "name": "python",
   "nbconvert_exporter": "python",
   "pygments_lexer": "ipython2",
   "version": "2.7.11"
  }
 },
 "nbformat": 4,
 "nbformat_minor": 0
}
